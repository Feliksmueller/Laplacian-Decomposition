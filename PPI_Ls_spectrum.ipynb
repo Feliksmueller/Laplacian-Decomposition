{
 "cells": [
  {
   "cell_type": "markdown",
   "metadata": {},
   "source": [
    "### Spectral Analysis of Graphs\n",
    "\n",
    "In this notebook, we perform **spectral analysis** on a graph to extract  features that capture the global structure of the network. \n",
    "\n",
    "---\n",
    "\n",
    "#### **Graph Laplacian**\n",
    "\n",
    "The **graph Laplacian** is a matrix representation of a graph that encodes its structure. For a graph $G = (V, E)$ with $n$ nodes, the Laplacian matrix $L$ is defined as:\n",
    "$$\n",
    "L = D - A\n",
    "$$\n",
    "where:\n",
    "- $A$ is the adjacency matrix of the graph, where $A_{ij} = 1$ if there is an edge between nodes $i$ and $j$, and $0$ otherwise.\n",
    "- $D$ is the degree matrix, a diagonal matrix where $D_{ii}$ is the degree of node $i$ (i.e., the number of edges connected to node $i$).\n",
    "\n",
    "For the **normalized Laplacian**, which is often used in spectral analysis, the formula is:\n",
    "$$\n",
    "L_{\\text{norm}} = I - D^{-1/2} A D^{-1/2}\n",
    "$$\n",
    "where $I$ is the identity matrix.\n",
    "\n",
    "---\n",
    "\n",
    "#### **Spectral Decomposition**\n",
    "\n",
    "The Laplacian matrix $L$ is symmetric and positive semi-definite, meaning it can be decomposed into eigenvalues and eigenvectors:\n",
    "$$\n",
    "L = Q \\Lambda Q^\\top\n",
    "$$\n",
    "where:\n",
    "- $Q$ is an orthogonal matrix whose columns are the eigenvectors of $L$.\n",
    "- $\\Lambda$ is a diagonal matrix containing the eigenvalues $\\lambda_1, \\lambda_2, \\dots, \\lambda_n$ of $L$.\n",
    "\n",
    "The eigenvalues and eigenvectors of the Laplacian provide important insights into the graph:\n",
    "- The **smallest eigenvalue** of $L$ is always $0$, and its corresponding eigenvector is constant.\n",
    "- The **second smallest eigenvalue** (called the **algebraic connectivity** or **Fiedler value**) indicates how well-connected the graph is.\n",
    "- The eigenvectors corresponding to the smallest eigenvalues encode the **global structure** of the graph and can be used for tasks like clustering and dimensionality reduction.\n",
    "\n",
    "---\n"
   ]
  },
  {
   "cell_type": "code",
   "execution_count": 56,
   "metadata": {},
   "outputs": [],
   "source": [
    "import os\n",
    "import sys\n",
    "import os.path\n",
    "import numpy as np\n",
    "import networkx as nx\n",
    "import itertools as it\n",
    "import random as rd\n",
    "import scipy.sparse as sp\n",
    "import scipy.stats as st\n",
    "import math\n",
    "import gzip\n",
    "import colorsys\n",
    "import pickle as pk\n",
    "import pandas as pd\n",
    "from collections import defaultdict, Counter, ChainMap\n",
    "import umap\n",
    "import scipy.stats as st\n",
    "import scipy.cluster.hierarchy as sch\n",
    "import scipy.spatial.distance as dist\n",
    "from sklearn.preprocessing import normalize\n",
    "from scipy.cluster.hierarchy import fcluster\n",
    "\n",
    "import matplotlib.pyplot as plt\n",
    "# %matplotlib inline"
   ]
  },
  {
   "attachments": {},
   "cell_type": "markdown",
   "metadata": {},
   "source": [
    "### Gene ID Mapping Preprocessing\n",
    "\n",
    "This code downloads and parses the NCBI gene info file for Homo sapiens to precompute mappings between gene symbols, Entrez IDs, and Ensembl IDs. It creates dictionaries for quick lookups (e.g., `symbol_to_entrez`, `symbol_to_ensembl`) and provides functions to convert gene symbols to Entrez or Ensembl IDs. These mappings are essential for consistent identifier conversion in downstream analyses."
   ]
  },
  {
   "cell_type": "code",
   "execution_count": 26,
   "metadata": {},
   "outputs": [],
   "source": [
    "\n",
    "\n",
    "def download_mapping_file(url, filename):\n",
    "    urllib.request.urlretrieve(url, filename)\n",
    "\n",
    "def parse_mapping_file(filename):\n",
    "    mapping = {}\n",
    "    with gzip.open(filename, 'rt') as file:\n",
    "        for line in file:\n",
    "            if line.startswith('#'):  # Skip header and comments\n",
    "                continue\n",
    "            fields = line.strip().split('\\t')\n",
    "            if fields[0] == '9606':\n",
    "                gene_symbol = fields[2]\n",
    "                entrez_id = fields[1]\n",
    "                ensembl_id = fields[5]\n",
    "                # Additional mapping field\n",
    "                gene_name = fields[11]\n",
    "                if gene_symbol not in mapping:\n",
    "                    mapping[gene_symbol] = {\n",
    "                        'entrez_id': entrez_id,\n",
    "                        'ensembl_id': ensembl_id,\n",
    "                        'gene_name': gene_name\n",
    "                    }\n",
    "    return mapping\n",
    "\n",
    "\n",
    "def convert_symbols_to_entrez(gene_symbols, mapping):\n",
    "    entrez_ids = []\n",
    "    for symbol in gene_symbols:\n",
    "        if symbol in mapping:\n",
    "            entrez_ids.append(mapping[symbol]['entrez_id'])\n",
    "    return entrez_ids\n",
    "\n",
    "def convert_symbols_to_ensembl(gene_symbols, mapping):\n",
    "    ensembl_ids = []\n",
    "    for symbol in gene_symbols:\n",
    "        if symbol in mapping:\n",
    "            ensembl_ids.append(mapping[symbol]['ensembl_id'])\n",
    "    return ensembl_ids\n",
    "\n",
    "# # Download Gene Info file (example using Homo sapiens)\n",
    "url = 'ftp://ftp.ncbi.nlm.nih.gov/gene/DATA/GENE_INFO/Mammalia/Homo_sapiens.gene_info.gz'\n",
    "filename = 'Homo_sapiens.gene_info.gz'\n",
    "download_mapping_file(url, filename)\n",
    "\n",
    "# Parse mapping file\n",
    "mapping = parse_mapping_file(filename)\n",
    "\n",
    "# Generate a dictionary of all existing gene symbols and their corresponding Entrez IDs and Ensemble IDs\n",
    "all_gene_symbols = list(mapping.keys())\n",
    "all_entrez_ids = [mapping[symbol]['entrez_id'] for symbol in all_gene_symbols]\n",
    "all_ensembl_ids = [mapping[symbol]['ensembl_id'] for symbol in all_gene_symbols]\n",
    "symbol_to_entrez = dict(zip(all_gene_symbols, all_entrez_ids))\n",
    "symbol_to_ensembl = dict(zip(all_gene_symbols, all_ensembl_ids))\n",
    "entrez_to_symbols = {v: k for k, v in symbol_to_entrez.items()}\n",
    "ensembl_to_symbols = {v: k for k, v in symbol_to_ensembl.items()}\n"
   ]
  },
  {
   "attachments": {},
   "cell_type": "markdown",
   "metadata": {},
   "source": [
    "### load PPI network\n",
    "\n",
    "Choose your PPI network from this list\n",
    "\n",
    "\n",
    "| Graph Name          | # Nodes | # Edges | # Components | Density   | Avg Degree |\n",
    "|---------------------|---------|---------|--------------|-----------|------------|\n",
    "| PPI_direct_elist    | 15,935  | 170,562 | 10           | 0.134 %   | 21.41      |\n",
    "| PPI_physical_elist  | 18,068  | 306,914 | 2            | 0.188 %   | 33.97      |\n",
    "| PPI_full_elist      | 19,970  | 772,282 | 1            | 0.387 %   | 77.34      |"
   ]
  },
  {
   "cell_type": "code",
   "execution_count": 27,
   "metadata": {},
   "outputs": [],
   "source": [
    "def Ginfo(G):\n",
    "    info = []\n",
    "    info.append(f\"Graph Name: {G.name}\")\n",
    "    info.append(f\"Graph Type: {type(G).__name__}\")\n",
    "    info.append(f\"Number of Nodes: {G.number_of_nodes()}\")\n",
    "    info.append(f\"Number of Edges: {G.number_of_edges()}\")\n",
    "    info.append(f\"Density: {round(100.*nx.density(G),3)} %\")\n",
    "    info.append(f\"Average Degree: {round(sum(dict(G.degree()).values()) / G.number_of_nodes(),2)}\")\n",
    "    info.append(f\"Connected: {'Yes' if nx.is_connected(G) else 'No'}\")\n",
    "    num_components = nx.number_connected_components(G)\n",
    "    info.append(f\"Number of Connected Components: {num_components}\")\n",
    "   \n",
    "    info.append(f\"Directed: {'Yes' if G.is_directed() else 'No'}\")\n",
    "    return \"\\n\".join(info)\n",
    "    return info"
   ]
  },
  {
   "cell_type": "code",
   "execution_count": 58,
   "metadata": {},
   "outputs": [
    {
     "name": "stdout",
     "output_type": "stream",
     "text": [
      "Graph Name: \n",
      "Graph Type: Graph\n",
      "Number of Nodes: 15935\n",
      "Number of Edges: 170562\n",
      "Density: 0.134 %\n",
      "Average Degree: 21.41\n",
      "Connected: No\n",
      "Number of Connected Components: 10\n",
      "Directed: No\n",
      "\n",
      "\n",
      "Graph Name: \n",
      "Graph Type: Graph\n",
      "Number of Nodes: 15915\n",
      "Number of Edges: 170551\n",
      "Density: 0.135 %\n",
      "Average Degree: 21.43\n",
      "Connected: Yes\n",
      "Number of Connected Components: 1\n",
      "Directed: No\n"
     ]
    }
   ],
   "source": [
    "\n",
    "# PPI direct\n",
    "path = 'data/'\n",
    "G_ppi = nx.read_edgelist(path + 'PPI_direct_elist.csv',data=False, delimiter=',')\n",
    "print(Ginfo(G_ppi))\n",
    "print('\\n')\n",
    "\n",
    "lcc = max(nx.connected_components(G_ppi), key=len)\n",
    "G = nx.subgraph(G_ppi,lcc)\n",
    "\n",
    "print(Ginfo(G))"
   ]
  },
  {
   "attachments": {},
   "cell_type": "markdown",
   "metadata": {},
   "source": [
    "### spectral decomposition\n",
    "\n",
    "of the symmetric Laplacian \n",
    "(takes 0.5-1 hrs)\n",
    "\n",
    "you can make a test run with a smaller sample (see optional next cell)\n"
   ]
  },
  {
   "cell_type": "code",
   "execution_count": null,
   "metadata": {},
   "outputs": [
    {
     "name": "stdout",
     "output_type": "stream",
     "text": [
      "Graph Name: \n",
      "Graph Type: Graph\n",
      "Number of Nodes: 4246\n",
      "Number of Edges: 17236\n",
      "Density: 0.191 %\n",
      "Average Degree: 8.12\n",
      "Connected: Yes\n",
      "Number of Connected Components: 1\n",
      "Directed: No\n"
     ]
    }
   ],
   "source": [
    "\n",
    "n = 5000  # Number of nodes to sample\n",
    "\n",
    "# Randomly sample n nodes from the graph\n",
    "sampled_nodes = rd.sample(list(G.nodes()), n)\n",
    "\n",
    "# Create a subgraph with the sampled nodes\n",
    "sampled_subgraph = G.subgraph(sampled_nodes)\n",
    "\n",
    "# Extract the largest connected component (LCC)\n",
    "lcc = max(nx.connected_components(sampled_subgraph), key=len)\n",
    "G_lcc_sample = G.subgraph(lcc)\n",
    "\n",
    "print(Ginfo(G_lcc_sample))"
   ]
  },
  {
   "cell_type": "code",
   "execution_count": 30,
   "metadata": {},
   "outputs": [],
   "source": [
    "\n",
    "# Compute the normalized Laplacian matrix\n",
    "M_laplace = nx.normalized_laplacian_matrix(G_lcc_sample, sorted(G_lcc_sample.nodes()))\n",
    "\n",
    "n_nodes = G_lcc_sample.number_of_nodes()\n",
    "\n",
    "# Compute the n_lam largest eigenvalues and eigenvectors of M_Laplace\n",
    "Lam, M_V = sp.linalg.eigsh(M_laplace, k=n_nodes-1, which='LM')"
   ]
  },
  {
   "cell_type": "code",
   "execution_count": 31,
   "metadata": {},
   "outputs": [
    {
     "data": {
      "image/png": "[encoded data removed]",
      "text/plain": [
       "<Figure size 800x600 with 1 Axes>"
      ]
     },
     "metadata": {},
     "output_type": "display_data"
    }
   ],
   "source": [
    "\n",
    "# Plot the eigenvalues as a histogram\n",
    "plt.figure(figsize=(8, 6))\n",
    "plt.hist(Lam, bins=30, color='lightblue', edgecolor='black', alpha=0.8)\n",
    "plt.title(\"Histogram of Laplacian Eigenvalues\")\n",
    "plt.xlabel(\"Eigenvalue\")\n",
    "plt.ylabel(\"Frequency\")\n",
    "plt.grid(alpha=0.3)\n",
    "plt.show()"
   ]
  },
  {
   "cell_type": "code",
   "execution_count": null,
   "metadata": {},
   "outputs": [],
   "source": []
  }
 ],
 "metadata": {
  "kernelspec": {
   "display_name": "Python 3",
   "language": "python",
   "name": "python3"
  },
  "language_info": {
   "codemirror_mode": {
    "name": "ipython",
    "version": 3
   },
   "file_extension": ".py",
   "mimetype": "text/x-python",
   "name": "python",
   "nbconvert_exporter": "python",
   "pygments_lexer": "ipython3",
   "version": "3.10.9"
  },
  "vscode": {
   "interpreter": {
    "hash": "e774977668b7c0ae8309835a5187aa7fbf7669e7d0bb59755bc63e573643edcd"
   }
  }
 },
 "nbformat": 4,
 "nbformat_minor": 4
}
